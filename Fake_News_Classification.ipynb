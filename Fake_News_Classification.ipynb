{
 "cells": [
  {
   "cell_type": "code",
   "execution_count": 6,
   "id": "44401018-3de7-4ecd-b7f3-afce088a87fb",
   "metadata": {},
   "outputs": [],
   "source": [
    "import pandas as pd\n",
    "import tensorflow as tf"
   ]
  },
  {
   "cell_type": "markdown",
   "id": "45ceb12b-9173-4729-8211-4580d7492b1b",
   "metadata": {},
   "source": [
    "# Reading Data"
   ]
  },
  {
   "cell_type": "code",
   "execution_count": 9,
   "id": "aeaa89c1-ecfb-4180-bcb1-a4e0b9e70520",
   "metadata": {},
   "outputs": [
    {
     "data": {
      "text/html": [
       "<div>\n",
       "<style scoped>\n",
       "    .dataframe tbody tr th:only-of-type {\n",
       "        vertical-align: middle;\n",
       "    }\n",
       "\n",
       "    .dataframe tbody tr th {\n",
       "        vertical-align: top;\n",
       "    }\n",
       "\n",
       "    .dataframe thead th {\n",
       "        text-align: right;\n",
       "    }\n",
       "</style>\n",
       "<table border=\"1\" class=\"dataframe\">\n",
       "  <thead>\n",
       "    <tr style=\"text-align: right;\">\n",
       "      <th></th>\n",
       "      <th>id</th>\n",
       "      <th>title</th>\n",
       "      <th>author</th>\n",
       "      <th>text</th>\n",
       "      <th>label</th>\n",
       "    </tr>\n",
       "  </thead>\n",
       "  <tbody>\n",
       "    <tr>\n",
       "      <th>0</th>\n",
       "      <td>0</td>\n",
       "      <td>House Dem Aide: We Didn’t Even See Comey’s Let...</td>\n",
       "      <td>Darrell Lucus</td>\n",
       "      <td>House Dem Aide: We Didn’t Even See Comey’s Let...</td>\n",
       "      <td>1</td>\n",
       "    </tr>\n",
       "    <tr>\n",
       "      <th>1</th>\n",
       "      <td>1</td>\n",
       "      <td>FLYNN: Hillary Clinton, Big Woman on Campus - ...</td>\n",
       "      <td>Daniel J. Flynn</td>\n",
       "      <td>Ever get the feeling your life circles the rou...</td>\n",
       "      <td>0</td>\n",
       "    </tr>\n",
       "    <tr>\n",
       "      <th>2</th>\n",
       "      <td>2</td>\n",
       "      <td>Why the Truth Might Get You Fired</td>\n",
       "      <td>Consortiumnews.com</td>\n",
       "      <td>Why the Truth Might Get You Fired October 29, ...</td>\n",
       "      <td>1</td>\n",
       "    </tr>\n",
       "    <tr>\n",
       "      <th>3</th>\n",
       "      <td>3</td>\n",
       "      <td>15 Civilians Killed In Single US Airstrike Hav...</td>\n",
       "      <td>Jessica Purkiss</td>\n",
       "      <td>Videos 15 Civilians Killed In Single US Airstr...</td>\n",
       "      <td>1</td>\n",
       "    </tr>\n",
       "    <tr>\n",
       "      <th>4</th>\n",
       "      <td>4</td>\n",
       "      <td>Iranian woman jailed for fictional unpublished...</td>\n",
       "      <td>Howard Portnoy</td>\n",
       "      <td>Print \\nAn Iranian woman has been sentenced to...</td>\n",
       "      <td>1</td>\n",
       "    </tr>\n",
       "  </tbody>\n",
       "</table>\n",
       "</div>"
      ],
      "text/plain": [
       "   id                                              title              author  \\\n",
       "0   0  House Dem Aide: We Didn’t Even See Comey’s Let...       Darrell Lucus   \n",
       "1   1  FLYNN: Hillary Clinton, Big Woman on Campus - ...     Daniel J. Flynn   \n",
       "2   2                  Why the Truth Might Get You Fired  Consortiumnews.com   \n",
       "3   3  15 Civilians Killed In Single US Airstrike Hav...     Jessica Purkiss   \n",
       "4   4  Iranian woman jailed for fictional unpublished...      Howard Portnoy   \n",
       "\n",
       "                                                text  label  \n",
       "0  House Dem Aide: We Didn’t Even See Comey’s Let...      1  \n",
       "1  Ever get the feeling your life circles the rou...      0  \n",
       "2  Why the Truth Might Get You Fired October 29, ...      1  \n",
       "3  Videos 15 Civilians Killed In Single US Airstr...      1  \n",
       "4  Print \\nAn Iranian woman has been sentenced to...      1  "
      ]
     },
     "execution_count": 9,
     "metadata": {},
     "output_type": "execute_result"
    }
   ],
   "source": [
    "#Reading the dataset\n",
    "data=pd.read_csv(\"news.csv\")\n",
    "data.head()"
   ]
  },
  {
   "cell_type": "code",
   "execution_count": 10,
   "id": "de7d1a2a-9650-43b1-976a-281872a62588",
   "metadata": {},
   "outputs": [
    {
     "data": {
      "text/plain": [
       "(20800, 5)"
      ]
     },
     "execution_count": 10,
     "metadata": {},
     "output_type": "execute_result"
    }
   ],
   "source": [
    "data.shape"
   ]
  },
  {
   "cell_type": "code",
   "execution_count": 11,
   "id": "41f7ce57-4bed-483a-9a6f-5fb631cbfa4a",
   "metadata": {},
   "outputs": [
    {
     "data": {
      "text/plain": [
       "'House Dem Aide: We Didn’t Even See Comey’s Letter Until Jason Chaffetz Tweeted It'"
      ]
     },
     "execution_count": 11,
     "metadata": {},
     "output_type": "execute_result"
    }
   ],
   "source": [
    "data['title'][0]"
   ]
  },
  {
   "cell_type": "code",
   "execution_count": 12,
   "id": "9e95a693-1971-4ab0-8c26-4fa8cd8eb34a",
   "metadata": {},
   "outputs": [
    {
     "data": {
      "text/plain": [
       "'Howard Portnoy Iranian woman jailed for fictional unpublished story about woman stoned to death for adultery'"
      ]
     },
     "execution_count": 12,
     "metadata": {},
     "output_type": "execute_result"
    }
   ],
   "source": [
    "#Creating the content column which contains the author name and title of the news\n",
    "data['content']=data['author'] + ' ' + data['title']\n",
    "data['content'][4]"
   ]
  },
  {
   "cell_type": "code",
   "execution_count": 13,
   "id": "2278aeb5-6ecf-468c-8cd0-3aee2ff814ab",
   "metadata": {},
   "outputs": [
    {
     "data": {
      "text/plain": [
       "id            0\n",
       "title       558\n",
       "author     1957\n",
       "text         39\n",
       "label         0\n",
       "content    2515\n",
       "dtype: int64"
      ]
     },
     "execution_count": 13,
     "metadata": {},
     "output_type": "execute_result"
    }
   ],
   "source": [
    "#Checking how many NULL values are there\n",
    "data.isna().sum()"
   ]
  },
  {
   "cell_type": "code",
   "execution_count": 14,
   "id": "80e5232d-d3d6-451f-9065-af92874135df",
   "metadata": {},
   "outputs": [
    {
     "data": {
      "text/plain": [
       "id         0\n",
       "title      0\n",
       "author     0\n",
       "text       0\n",
       "label      0\n",
       "content    0\n",
       "dtype: int64"
      ]
     },
     "execution_count": 14,
     "metadata": {},
     "output_type": "execute_result"
    }
   ],
   "source": [
    "#Dropping all the Null Values\n",
    "data=data.dropna() #Drop NAN value\n",
    "data.isna().sum()"
   ]
  },
  {
   "cell_type": "markdown",
   "id": "f75e5c0b-b231-4175-93d9-9db120ad9e80",
   "metadata": {},
   "source": [
    "# Preprocessing the data"
   ]
  },
  {
   "cell_type": "code",
   "execution_count": 22,
   "id": "260b6d37-4d20-4b8e-b71c-027429b4d7c2",
   "metadata": {},
   "outputs": [],
   "source": [
    "from nltk.corpus import stopwords\n",
    "from nltk.stem.porter import PorterStemmer\n",
    "import re\n",
    "\n",
    "#Converting text into data required for training\n",
    "def convert(text):\n",
    "    ps=PorterStemmer()\n",
    "    text_converted=re.sub('[^a-zA-Z]',' ',text)\n",
    "    text_converted=text_converted.lower()\n",
    "    text_converted=text_converted.split()\n",
    "    text_stemmed=[ps.stem(word) for word in text_converted if word not in stopwords.words('english')]\n",
    "    text_stemmed=' '.join(text_stemmed)\n",
    "    return text_stemmed"
   ]
  },
  {
   "cell_type": "code",
   "execution_count": 23,
   "id": "acda3de7-c036-4925-b9fd-a5e5cea52fa3",
   "metadata": {},
   "outputs": [
    {
     "data": {
      "text/plain": [
       "0        darrel lucu hous dem aid even see comey letter...\n",
       "1        daniel j flynn flynn hillari clinton big woman...\n",
       "2                   consortiumnew com truth might get fire\n",
       "3        jessica purkiss civilian kill singl us airstri...\n",
       "4        howard portnoy iranian woman jail fiction unpu...\n",
       "                               ...                        \n",
       "20795    jerom hudson rapper trump poster child white s...\n",
       "20796    benjamin hoffman n f l playoff schedul matchup...\n",
       "20797    michael j de la merc rachel abram maci said re...\n",
       "20798    alex ansari nato russia hold parallel exercis ...\n",
       "20799                            david swanson keep f aliv\n",
       "Name: content, Length: 18285, dtype: object"
      ]
     },
     "execution_count": 23,
     "metadata": {},
     "output_type": "execute_result"
    }
   ],
   "source": [
    "#Applying the convert function in each text in content column\n",
    "data['content']=data['content'].apply(convert)\n",
    "data['content']"
   ]
  },
  {
   "cell_type": "code",
   "execution_count": 24,
   "id": "b2adab82-c963-44f1-931f-80afab39f91e",
   "metadata": {},
   "outputs": [],
   "source": [
    "X=data['content'].values\n",
    "y=data['label'].values"
   ]
  },
  {
   "cell_type": "code",
   "execution_count": 25,
   "id": "db3eeb6f-ad42-46e4-a643-c9df1c79c994",
   "metadata": {},
   "outputs": [
    {
     "data": {
      "text/plain": [
       "(array(['darrel lucu hous dem aid even see comey letter jason chaffetz tweet',\n",
       "        'daniel j flynn flynn hillari clinton big woman campu breitbart',\n",
       "        'consortiumnew com truth might get fire', ...,\n",
       "        'michael j de la merc rachel abram maci said receiv takeov approach hudson bay new york time',\n",
       "        'alex ansari nato russia hold parallel exercis balkan',\n",
       "        'david swanson keep f aliv'], dtype=object),\n",
       " array([1, 0, 1, ..., 0, 1, 1], dtype=int64))"
      ]
     },
     "execution_count": 25,
     "metadata": {},
     "output_type": "execute_result"
    }
   ],
   "source": [
    "X,y"
   ]
  },
  {
   "cell_type": "code",
   "execution_count": 26,
   "id": "05d53e6d-3e95-435f-8a8c-8f968ab4aed2",
   "metadata": {},
   "outputs": [],
   "source": [
    "#Converting text data into numbers\n",
    "from sklearn.feature_extraction.text import TfidfVectorizer\n",
    "vector=TfidfVectorizer()\n",
    "vector.fit(X)\n",
    "X=vector.transform(X)"
   ]
  },
  {
   "cell_type": "code",
   "execution_count": 27,
   "id": "8b0e0dba-fbae-41aa-9a10-4bd9ee9b6928",
   "metadata": {},
   "outputs": [
    {
     "name": "stdout",
     "output_type": "stream",
     "text": [
      "  (0, 14626)\t0.2853880981846006\n",
      "  (0, 12567)\t0.25566372256502734\n",
      "  (0, 8310)\t0.3609049070394367\n",
      "  (0, 8048)\t0.29347549279156676\n",
      "  (0, 7190)\t0.24556189342497173\n",
      "  (0, 6552)\t0.21745594418933306\n",
      "  (0, 4637)\t0.23016077319140021\n",
      "  (0, 3543)\t0.2684494960336511\n",
      "  (0, 3359)\t0.3609049070394367\n",
      "  (0, 2757)\t0.2466340295002162\n",
      "  (0, 2312)\t0.3745612250433202\n",
      "  (0, 247)\t0.26982554594264346\n"
     ]
    }
   ],
   "source": [
    "print(X[0])"
   ]
  },
  {
   "cell_type": "markdown",
   "id": "4ee155b5-3a5b-4b9b-8cfc-d696b757f9df",
   "metadata": {},
   "source": [
    "# Spliting the dataset"
   ]
  },
  {
   "cell_type": "code",
   "execution_count": 29,
   "id": "86498862-33a4-4de6-87e3-bfc58956b559",
   "metadata": {},
   "outputs": [],
   "source": [
    "from sklearn.model_selection import train_test_split\n",
    "X_train,X_test,y_train,y_test=train_test_split(X,y,test_size=0.2,random_state=42)"
   ]
  },
  {
   "cell_type": "code",
   "execution_count": 31,
   "id": "471ebae2-6e30-478c-8963-1fe71e22adbb",
   "metadata": {},
   "outputs": [
    {
     "data": {
      "text/plain": [
       "((14628, 15960), (14628,))"
      ]
     },
     "execution_count": 31,
     "metadata": {},
     "output_type": "execute_result"
    }
   ],
   "source": [
    "X_train.shape,y_train.shape"
   ]
  },
  {
   "cell_type": "markdown",
   "id": "859f3d20-aaaf-4282-abcb-1aa9a1ca70c1",
   "metadata": {},
   "source": [
    "# Model Training"
   ]
  },
  {
   "cell_type": "code",
   "execution_count": 33,
   "id": "b70b7064-bc02-4227-83d6-6df8bd020243",
   "metadata": {},
   "outputs": [
    {
     "name": "stdout",
     "output_type": "stream",
     "text": [
      "Epoch 1/10\n",
      "\u001b[1m458/458\u001b[0m \u001b[32m━━━━━━━━━━━━━━━━━━━━\u001b[0m\u001b[37m\u001b[0m \u001b[1m5s\u001b[0m 6ms/step - accuracy: 0.8167 - loss: 0.4438 - val_accuracy: 0.9880 - val_loss: 0.0665\n",
      "Epoch 2/10\n",
      "\u001b[1m458/458\u001b[0m \u001b[32m━━━━━━━━━━━━━━━━━━━━\u001b[0m\u001b[37m\u001b[0m \u001b[1m3s\u001b[0m 5ms/step - accuracy: 0.9965 - loss: 0.0312 - val_accuracy: 0.9915 - val_loss: 0.0376\n",
      "Epoch 3/10\n",
      "\u001b[1m458/458\u001b[0m \u001b[32m━━━━━━━━━━━━━━━━━━━━\u001b[0m\u001b[37m\u001b[0m \u001b[1m3s\u001b[0m 6ms/step - accuracy: 0.9991 - loss: 0.0091 - val_accuracy: 0.9926 - val_loss: 0.0304\n",
      "Epoch 4/10\n",
      "\u001b[1m458/458\u001b[0m \u001b[32m━━━━━━━━━━━━━━━━━━━━\u001b[0m\u001b[37m\u001b[0m \u001b[1m3s\u001b[0m 6ms/step - accuracy: 1.0000 - loss: 0.0037 - val_accuracy: 0.9929 - val_loss: 0.0274\n",
      "Epoch 5/10\n",
      "\u001b[1m458/458\u001b[0m \u001b[32m━━━━━━━━━━━━━━━━━━━━\u001b[0m\u001b[37m\u001b[0m \u001b[1m3s\u001b[0m 6ms/step - accuracy: 1.0000 - loss: 0.0019 - val_accuracy: 0.9932 - val_loss: 0.0256\n",
      "Epoch 6/10\n",
      "\u001b[1m458/458\u001b[0m \u001b[32m━━━━━━━━━━━━━━━━━━━━\u001b[0m\u001b[37m\u001b[0m \u001b[1m3s\u001b[0m 6ms/step - accuracy: 1.0000 - loss: 0.0012 - val_accuracy: 0.9926 - val_loss: 0.0247\n",
      "Epoch 7/10\n",
      "\u001b[1m458/458\u001b[0m \u001b[32m━━━━━━━━━━━━━━━━━━━━\u001b[0m\u001b[37m\u001b[0m \u001b[1m3s\u001b[0m 5ms/step - accuracy: 1.0000 - loss: 8.2159e-04 - val_accuracy: 0.9929 - val_loss: 0.0241\n",
      "Epoch 8/10\n",
      "\u001b[1m458/458\u001b[0m \u001b[32m━━━━━━━━━━━━━━━━━━━━\u001b[0m\u001b[37m\u001b[0m \u001b[1m3s\u001b[0m 6ms/step - accuracy: 1.0000 - loss: 5.3761e-04 - val_accuracy: 0.9937 - val_loss: 0.0237\n",
      "Epoch 9/10\n",
      "\u001b[1m458/458\u001b[0m \u001b[32m━━━━━━━━━━━━━━━━━━━━\u001b[0m\u001b[37m\u001b[0m \u001b[1m3s\u001b[0m 6ms/step - accuracy: 1.0000 - loss: 3.8383e-04 - val_accuracy: 0.9932 - val_loss: 0.0234\n",
      "Epoch 10/10\n",
      "\u001b[1m458/458\u001b[0m \u001b[32m━━━━━━━━━━━━━━━━━━━━\u001b[0m\u001b[37m\u001b[0m \u001b[1m3s\u001b[0m 6ms/step - accuracy: 1.0000 - loss: 2.6007e-04 - val_accuracy: 0.9934 - val_loss: 0.0233\n"
     ]
    },
    {
     "data": {
      "text/plain": [
       "<keras.src.callbacks.history.History at 0x20730773e10>"
      ]
     },
     "execution_count": 33,
     "metadata": {},
     "output_type": "execute_result"
    }
   ],
   "source": [
    "model=tf.keras.Sequential([\n",
    "    tf.keras.layers.Dense(100,activation='relu'),\n",
    "    tf.keras.layers.Dense(1,activation='sigmoid')\n",
    "])\n",
    "model.compile(loss=\"binary_crossentropy\",\n",
    "             optimizer=\"adam\",\n",
    "             metrics=['accuracy'])\n",
    "model.fit(X_train,y_train,validation_data=[X_test,y_test],epochs=10)"
   ]
  },
  {
   "cell_type": "code",
   "execution_count": 34,
   "id": "038cf864-5dc2-4e5d-b56a-c6c6509dc533",
   "metadata": {},
   "outputs": [
    {
     "name": "stdout",
     "output_type": "stream",
     "text": [
      "\u001b[1m115/115\u001b[0m \u001b[32m━━━━━━━━━━━━━━━━━━━━\u001b[0m\u001b[37m\u001b[0m \u001b[1m0s\u001b[0m 932us/step - accuracy: 0.9926 - loss: 0.0257\n"
     ]
    },
    {
     "data": {
      "text/plain": [
       "[0.023345068097114563, 0.9934372305870056]"
      ]
     },
     "execution_count": 34,
     "metadata": {},
     "output_type": "execute_result"
    }
   ],
   "source": [
    "#Evaluating model performance\n",
    "model.evaluate(X_test,y_test)"
   ]
  },
  {
   "cell_type": "code",
   "execution_count": 35,
   "id": "1bc2a3e0-9cae-44b8-8cba-3e41ccc8e3b5",
   "metadata": {},
   "outputs": [
    {
     "name": "stdout",
     "output_type": "stream",
     "text": [
      "\u001b[1m115/115\u001b[0m \u001b[32m━━━━━━━━━━━━━━━━━━━━\u001b[0m\u001b[37m\u001b[0m \u001b[1m0s\u001b[0m 2ms/step\n"
     ]
    },
    {
     "data": {
      "text/plain": [
       "array([[9.9998415e-01],\n",
       "       [9.6794300e-02],\n",
       "       [4.6051590e-04],\n",
       "       ...,\n",
       "       [9.9999541e-01],\n",
       "       [1.1964350e-03],\n",
       "       [9.9982506e-01]], dtype=float32)"
      ]
     },
     "execution_count": 35,
     "metadata": {},
     "output_type": "execute_result"
    }
   ],
   "source": [
    "y_pred=model.predict(X_test)\n",
    "y_pred"
   ]
  },
  {
   "cell_type": "code",
   "execution_count": 36,
   "id": "fce2e584-80b3-495e-acfb-a05c5fe90bff",
   "metadata": {},
   "outputs": [
    {
     "data": {
      "text/plain": [
       "'darrel lucu hous dem aid even see comey letter jason chaffetz tweet'"
      ]
     },
     "execution_count": 36,
     "metadata": {},
     "output_type": "execute_result"
    }
   ],
   "source": [
    "data['content'][0]\n",
    "\n"
   ]
  },
  {
   "cell_type": "code",
   "execution_count": 37,
   "id": "fddc8078-7465-4a1e-9dc2-81dbf8bffedb",
   "metadata": {},
   "outputs": [
    {
     "name": "stdout",
     "output_type": "stream",
     "text": [
      "\u001b[1m1/1\u001b[0m \u001b[32m━━━━━━━━━━━━━━━━━━━━\u001b[0m\u001b[37m\u001b[0m \u001b[1m0s\u001b[0m 56ms/step\n",
      "real\n"
     ]
    }
   ],
   "source": [
    "ans=model.predict(X_test[0])\n",
    "if(ans[0]>=0.5):\n",
    "    print(\"real\")\n",
    "else:\n",
    "    print(\"False\")"
   ]
  },
  {
   "cell_type": "code",
   "execution_count": 38,
   "id": "6e04adbe-40e7-4fdf-89c4-ea6e24e445e0",
   "metadata": {},
   "outputs": [
    {
     "data": {
      "text/plain": [
       "<1x15960 sparse matrix of type '<class 'numpy.float64'>'\n",
       "\twith 6 stored elements in Compressed Sparse Row format>"
      ]
     },
     "execution_count": 38,
     "metadata": {},
     "output_type": "execute_result"
    }
   ],
   "source": [
    "X_test[5]"
   ]
  },
  {
   "cell_type": "code",
   "execution_count": 39,
   "id": "819134ea-23f2-4d4a-b5ef-c87cfcbf54d2",
   "metadata": {},
   "outputs": [
    {
     "data": {
      "text/plain": [
       "1"
      ]
     },
     "execution_count": 39,
     "metadata": {},
     "output_type": "execute_result"
    }
   ],
   "source": [
    "y_test[0]"
   ]
  },
  {
   "cell_type": "code",
   "execution_count": 78,
   "id": "6212e3ba-13c5-4c50-bd6d-c1f3cfefedc4",
   "metadata": {},
   "outputs": [],
   "source": [
    "news={\n",
    "    1 :\"Real\",\n",
    "    0:\"Fake\"\n",
    "}\n",
    "def result(X,y,index):\n",
    "    ans=model.predict(X[index])\n",
    "    print(\"Tensorflow model result : \")\n",
    "    if(ans[0]>=0.5):\n",
    "        print(\"Predicted value:Real\")\n",
    "        print(f\"True value:{news[y[index]]}\")\n",
    "    else:\n",
    "        print(\"Predicted value:Fake\")\n",
    "        print(f\"True value:{news[y[index]]}\")"
   ]
  },
  {
   "cell_type": "code",
   "execution_count": 86,
   "id": "c1674e99-cbb2-4b90-afac-d06c87a5da5d",
   "metadata": {},
   "outputs": [
    {
     "name": "stdout",
     "output_type": "stream",
     "text": [
      "\u001b[1m1/1\u001b[0m \u001b[32m━━━━━━━━━━━━━━━━━━━━\u001b[0m\u001b[37m\u001b[0m \u001b[1m0s\u001b[0m 52ms/step\n",
      "Tensorflow model result : \n",
      "Predicted value:Fake\n",
      "True value:Fake\n"
     ]
    }
   ],
   "source": [
    "result(X_test,y_test,900)"
   ]
  },
  {
   "cell_type": "code",
   "execution_count": null,
   "id": "e848087b-e303-4491-95a6-18435c8a5115",
   "metadata": {},
   "outputs": [],
   "source": []
  }
 ],
 "metadata": {
  "kernelspec": {
   "display_name": "Python 3 (ipykernel)",
   "language": "python",
   "name": "python3"
  },
  "language_info": {
   "codemirror_mode": {
    "name": "ipython",
    "version": 3
   },
   "file_extension": ".py",
   "mimetype": "text/x-python",
   "name": "python",
   "nbconvert_exporter": "python",
   "pygments_lexer": "ipython3",
   "version": "3.11.7"
  }
 },
 "nbformat": 4,
 "nbformat_minor": 5
}
